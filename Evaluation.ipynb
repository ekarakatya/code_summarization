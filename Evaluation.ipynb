{
  "nbformat": 4,
  "nbformat_minor": 0,
  "metadata": {
    "colab": {
      "provenance": [],
      "collapsed_sections": [
        "UhZC5wmZD1Ca",
        "H8f4KZkPD49h",
        "Lb063R4rhyzt"
      ],
      "gpuType": "V100"
    },
    "kernelspec": {
      "name": "python3",
      "display_name": "Python 3"
    },
    "language_info": {
      "name": "python"
    },
    "gpuClass": "standard"
  },
  "cells": [
    {
      "cell_type": "code",
      "source": [
        "from google.colab import drive\n",
        "drive.mount('/content/drive', force_remount=True)"
      ],
      "metadata": {
        "id": "O_1Q5q-GDxLB",
        "colab": {
          "base_uri": "https://localhost:8080/"
        },
        "outputId": "56786043-ec07-4be0-e447-f0bc6a93cc66"
      },
      "execution_count": null,
      "outputs": [
        {
          "output_type": "stream",
          "name": "stdout",
          "text": [
            "Mounted at /content/drive\n"
          ]
        }
      ]
    },
    {
      "cell_type": "code",
      "source": [
        "%cd /content\n",
        "!pip install evaluate\n",
        "!pip install rouge_score\n",
        "!pip install sacrebleu\n",
        "import evaluate\n",
        "import json"
      ],
      "metadata": {
        "id": "lT1Z5iRMDxNI",
        "colab": {
          "base_uri": "https://localhost:8080/"
        },
        "outputId": "5b6f07ae-7b0a-45b9-fbc8-5b6a33ebc9af"
      },
      "execution_count": null,
      "outputs": [
        {
          "output_type": "stream",
          "name": "stdout",
          "text": [
            "/content\n",
            "Looking in indexes: https://pypi.org/simple, https://us-python.pkg.dev/colab-wheels/public/simple/\n",
            "Requirement already satisfied: evaluate in /usr/local/lib/python3.10/dist-packages (0.4.0)\n",
            "Requirement already satisfied: datasets>=2.0.0 in /usr/local/lib/python3.10/dist-packages (from evaluate) (2.12.0)\n",
            "Requirement already satisfied: numpy>=1.17 in /usr/local/lib/python3.10/dist-packages (from evaluate) (1.22.4)\n",
            "Requirement already satisfied: dill in /usr/local/lib/python3.10/dist-packages (from evaluate) (0.3.6)\n",
            "Requirement already satisfied: pandas in /usr/local/lib/python3.10/dist-packages (from evaluate) (1.5.3)\n",
            "Requirement already satisfied: requests>=2.19.0 in /usr/local/lib/python3.10/dist-packages (from evaluate) (2.27.1)\n",
            "Requirement already satisfied: tqdm>=4.62.1 in /usr/local/lib/python3.10/dist-packages (from evaluate) (4.65.0)\n",
            "Requirement already satisfied: xxhash in /usr/local/lib/python3.10/dist-packages (from evaluate) (3.2.0)\n",
            "Requirement already satisfied: multiprocess in /usr/local/lib/python3.10/dist-packages (from evaluate) (0.70.14)\n",
            "Requirement already satisfied: fsspec[http]>=2021.05.0 in /usr/local/lib/python3.10/dist-packages (from evaluate) (2023.4.0)\n",
            "Requirement already satisfied: huggingface-hub>=0.7.0 in /usr/local/lib/python3.10/dist-packages (from evaluate) (0.14.1)\n",
            "Requirement already satisfied: packaging in /usr/local/lib/python3.10/dist-packages (from evaluate) (23.1)\n",
            "Requirement already satisfied: responses<0.19 in /usr/local/lib/python3.10/dist-packages (from evaluate) (0.18.0)\n",
            "Requirement already satisfied: pyarrow>=8.0.0 in /usr/local/lib/python3.10/dist-packages (from datasets>=2.0.0->evaluate) (9.0.0)\n",
            "Requirement already satisfied: aiohttp in /usr/local/lib/python3.10/dist-packages (from datasets>=2.0.0->evaluate) (3.8.4)\n",
            "Requirement already satisfied: pyyaml>=5.1 in /usr/local/lib/python3.10/dist-packages (from datasets>=2.0.0->evaluate) (6.0)\n",
            "Requirement already satisfied: filelock in /usr/local/lib/python3.10/dist-packages (from huggingface-hub>=0.7.0->evaluate) (3.12.0)\n",
            "Requirement already satisfied: typing-extensions>=3.7.4.3 in /usr/local/lib/python3.10/dist-packages (from huggingface-hub>=0.7.0->evaluate) (4.5.0)\n",
            "Requirement already satisfied: urllib3<1.27,>=1.21.1 in /usr/local/lib/python3.10/dist-packages (from requests>=2.19.0->evaluate) (1.26.15)\n",
            "Requirement already satisfied: certifi>=2017.4.17 in /usr/local/lib/python3.10/dist-packages (from requests>=2.19.0->evaluate) (2022.12.7)\n",
            "Requirement already satisfied: charset-normalizer~=2.0.0 in /usr/local/lib/python3.10/dist-packages (from requests>=2.19.0->evaluate) (2.0.12)\n",
            "Requirement already satisfied: idna<4,>=2.5 in /usr/local/lib/python3.10/dist-packages (from requests>=2.19.0->evaluate) (3.4)\n",
            "Requirement already satisfied: python-dateutil>=2.8.1 in /usr/local/lib/python3.10/dist-packages (from pandas->evaluate) (2.8.2)\n",
            "Requirement already satisfied: pytz>=2020.1 in /usr/local/lib/python3.10/dist-packages (from pandas->evaluate) (2022.7.1)\n",
            "Requirement already satisfied: attrs>=17.3.0 in /usr/local/lib/python3.10/dist-packages (from aiohttp->datasets>=2.0.0->evaluate) (23.1.0)\n",
            "Requirement already satisfied: multidict<7.0,>=4.5 in /usr/local/lib/python3.10/dist-packages (from aiohttp->datasets>=2.0.0->evaluate) (6.0.4)\n",
            "Requirement already satisfied: async-timeout<5.0,>=4.0.0a3 in /usr/local/lib/python3.10/dist-packages (from aiohttp->datasets>=2.0.0->evaluate) (4.0.2)\n",
            "Requirement already satisfied: yarl<2.0,>=1.0 in /usr/local/lib/python3.10/dist-packages (from aiohttp->datasets>=2.0.0->evaluate) (1.9.2)\n",
            "Requirement already satisfied: frozenlist>=1.1.1 in /usr/local/lib/python3.10/dist-packages (from aiohttp->datasets>=2.0.0->evaluate) (1.3.3)\n",
            "Requirement already satisfied: aiosignal>=1.1.2 in /usr/local/lib/python3.10/dist-packages (from aiohttp->datasets>=2.0.0->evaluate) (1.3.1)\n",
            "Requirement already satisfied: six>=1.5 in /usr/local/lib/python3.10/dist-packages (from python-dateutil>=2.8.1->pandas->evaluate) (1.16.0)\n",
            "Looking in indexes: https://pypi.org/simple, https://us-python.pkg.dev/colab-wheels/public/simple/\n",
            "Requirement already satisfied: rouge_score in /usr/local/lib/python3.10/dist-packages (0.1.2)\n",
            "Requirement already satisfied: absl-py in /usr/local/lib/python3.10/dist-packages (from rouge_score) (1.4.0)\n",
            "Requirement already satisfied: nltk in /usr/local/lib/python3.10/dist-packages (from rouge_score) (3.8.1)\n",
            "Requirement already satisfied: numpy in /usr/local/lib/python3.10/dist-packages (from rouge_score) (1.22.4)\n",
            "Requirement already satisfied: six>=1.14.0 in /usr/local/lib/python3.10/dist-packages (from rouge_score) (1.16.0)\n",
            "Requirement already satisfied: click in /usr/local/lib/python3.10/dist-packages (from nltk->rouge_score) (8.1.3)\n",
            "Requirement already satisfied: joblib in /usr/local/lib/python3.10/dist-packages (from nltk->rouge_score) (1.2.0)\n",
            "Requirement already satisfied: regex>=2021.8.3 in /usr/local/lib/python3.10/dist-packages (from nltk->rouge_score) (2022.10.31)\n",
            "Requirement already satisfied: tqdm in /usr/local/lib/python3.10/dist-packages (from nltk->rouge_score) (4.65.0)\n",
            "Looking in indexes: https://pypi.org/simple, https://us-python.pkg.dev/colab-wheels/public/simple/\n",
            "Requirement already satisfied: sacrebleu in /usr/local/lib/python3.10/dist-packages (2.3.1)\n",
            "Requirement already satisfied: portalocker in /usr/local/lib/python3.10/dist-packages (from sacrebleu) (2.7.0)\n",
            "Requirement already satisfied: regex in /usr/local/lib/python3.10/dist-packages (from sacrebleu) (2022.10.31)\n",
            "Requirement already satisfied: tabulate>=0.8.9 in /usr/local/lib/python3.10/dist-packages (from sacrebleu) (0.8.10)\n",
            "Requirement already satisfied: numpy>=1.17 in /usr/local/lib/python3.10/dist-packages (from sacrebleu) (1.22.4)\n",
            "Requirement already satisfied: colorama in /usr/local/lib/python3.10/dist-packages (from sacrebleu) (0.4.6)\n",
            "Requirement already satisfied: lxml in /usr/local/lib/python3.10/dist-packages (from sacrebleu) (4.9.2)\n"
          ]
        }
      ]
    },
    {
      "cell_type": "code",
      "source": [
        "import string \n",
        "import json\n",
        "\n",
        "def my_split(x):\n",
        "  temp = x.split()\n",
        "  result = []\n",
        "  for tok in temp:\n",
        "    accum = ''\n",
        "    for t in tok: \n",
        "      if t not in string.punctuation:\n",
        "        accum += t\n",
        "      else:\n",
        "        if len(accum) > 0:\n",
        "          result.append(accum)\n",
        "        accum = ''\n",
        "        result.append(t)\n",
        "    if len(accum) > 0:\n",
        "      result.append(accum)\n",
        "  return result"
      ],
      "metadata": {
        "id": "5EHANWReiBbt"
      },
      "execution_count": null,
      "outputs": []
    },
    {
      "cell_type": "markdown",
      "source": [
        "# Env"
      ],
      "metadata": {
        "id": "UhZC5wmZD1Ca"
      }
    },
    {
      "cell_type": "code",
      "source": [
        "%cd /content\n",
        "\n",
        "%env PYTHONPATH=\n",
        "\n",
        "!wget https://repo.anaconda.com/miniconda/Miniconda3-py38_4.12.0-Linux-x86_64.sh\n",
        "!chmod +x Miniconda3-py38_4.12.0-Linux-x86_64.sh\n",
        "!bash ./Miniconda3-py38_4.12.0-Linux-x86_64.sh -b -f -p /usr/local/"
      ],
      "metadata": {
        "id": "NnhvQPDSDxO8"
      },
      "execution_count": null,
      "outputs": []
    },
    {
      "cell_type": "code",
      "source": [
        "!conda install --channel defaults conda python=3.8.10 --yes\n",
        "!conda update --channel defaults --all --yes"
      ],
      "metadata": {
        "id": "4LpsgtSQDxRR"
      },
      "execution_count": null,
      "outputs": []
    },
    {
      "cell_type": "code",
      "source": [
        "import sys\n",
        "sys.path.append(\"/usr/local/lib/python3.8/site-packages\") #?"
      ],
      "metadata": {
        "id": "tfIc-E7MDxTZ"
      },
      "execution_count": null,
      "outputs": []
    },
    {
      "cell_type": "code",
      "source": [
        "!yes | bash /content/drive/MyDrive/PLBART-main/install_env.sh"
      ],
      "metadata": {
        "id": "vsF4TtOaEJ_x"
      },
      "execution_count": null,
      "outputs": []
    },
    {
      "cell_type": "markdown",
      "source": [
        "# Generate comments and eval BLEU-4"
      ],
      "metadata": {
        "id": "H8f4KZkPD49h"
      }
    },
    {
      "cell_type": "code",
      "source": [
        "%cd /content/drive/MyDrive/PLBART-main/scripts/code_to_text/\n",
        "!bash generate.sh 0 python base checkpoint{}.pt test\n"
      ],
      "metadata": {
        "id": "oYhua-KYDxVN"
      },
      "execution_count": null,
      "outputs": []
    },
    {
      "cell_type": "code",
      "source": [
        "%cd /content/drive/MyDrive/PLBART-main/scripts/code_to_text/\n",
        "!bash generate.sh 0 python base checkpoint{}.pt valid"
      ],
      "metadata": {
        "id": "66ut2iRL7GZl"
      },
      "execution_count": null,
      "outputs": []
    },
    {
      "cell_type": "code",
      "source": [
        "%cd /content/drive/MyDrive/PLBART-main/scripts/code_to_text/\n",
        "!bash generate.sh 0 python finetuned checkpoint{}.pt test\n"
      ],
      "metadata": {
        "id": "qXUIEtID7cou"
      },
      "execution_count": null,
      "outputs": []
    },
    {
      "cell_type": "code",
      "source": [
        "%cd /content/drive/MyDrive/PLBART-main/scripts/code_to_text/\n",
        "!bash generate.sh 0 python finetuned checkpoint{}.pt valid"
      ],
      "metadata": {
        "id": "6YPeUE_V7cro"
      },
      "execution_count": null,
      "outputs": []
    },
    {
      "cell_type": "markdown",
      "source": [
        "# Other metrics"
      ],
      "metadata": {
        "id": "Lb063R4rhyzt"
      }
    },
    {
      "cell_type": "code",
      "source": [
        "references = []\n",
        "with open('/content/drive/MyDrive/mCoNaLa/mconala_final', 'r', encoding='utf-8') as f:\n",
        "  for line in f:\n",
        "    t = \" \".join(my_split(line.strip().replace('`', '').lower()))\n",
        "    references.append(t)\n",
        "\n",
        "assert len(references) == 345"
      ],
      "metadata": {
        "id": "-YEEiMgb5RxR"
      },
      "execution_count": null,
      "outputs": []
    },
    {
      "cell_type": "code",
      "source": [
        "results = '/content/drive/MyDrive/PLBART-main/checkpoints/finetuned_python_ru_XX_10/output_checkpoint5.pt_test.hyp'\n",
        "\n",
        "predictions = []\n",
        "with open(results, 'r', encoding='utf-8') as f:\n",
        "  for line in f:\n",
        "     pred = \" \".join(my_split(line.strip().lower()))\n",
        "     predictions.append(pred)\n",
        "\n",
        "assert len(predictions) == 345"
      ],
      "metadata": {
        "id": "A_pTA_Z18Gig"
      },
      "execution_count": null,
      "outputs": []
    },
    {
      "cell_type": "code",
      "source": [
        "bleu = evaluate.load(\"bleu\", max_order=4, smooth=True)\n",
        "results = bleu.compute(predictions=predictions, references=references)\n",
        "print(results)\n",
        "\n",
        "rouge_l = evaluate.load('rouge')\n",
        "results = rouge_l.compute(predictions=predictions,\n",
        "                        references=references,\n",
        "                        tokenizer=lambda x: x.split(), \n",
        "                        rouge_types=['rougeL'])\n",
        "print(results)\n",
        "\n",
        "chrf = evaluate.load(\"chrf\")\n",
        "results = chrf.compute(predictions=predictions,\n",
        "                      references=references,\n",
        "                      lowercase=True)\n",
        "print(results)\n",
        "\n",
        "results = chrf.compute(predictions=predictions,\n",
        "                      references=references,\n",
        "                      char_order=1,\n",
        "                      lowercase=True)\n",
        "print(results)"
      ],
      "metadata": {
        "colab": {
          "base_uri": "https://localhost:8080/"
        },
        "id": "IsPjXZn45Rzu",
        "outputId": "f51f5486-537e-4222-834d-40caeb28f316"
      },
      "execution_count": null,
      "outputs": [
        {
          "output_type": "stream",
          "name": "stdout",
          "text": [
            "{'bleu': 0.01213241159128543, 'precisions': [0.14181486548107616, 0.038419913419913417, 0.015302727877578177, 0.0017226528854435831], 'brevity_penalty': 0.6232121945051228, 'length_ratio': 0.6789473684210526, 'translation_length': 2193, 'reference_length': 3230}\n",
            "{'rougeL': 0.10499445693089801}\n",
            "{'score': 14.989183216016237, 'char_order': 6, 'word_order': 0, 'beta': 2}\n",
            "{'score': 45.718353044240025, 'char_order': 1, 'word_order': 0, 'beta': 2}\n"
          ]
        }
      ]
    },
    {
      "cell_type": "code",
      "source": [
        "references_v = []\n",
        "with open('/content/drive/MyDrive/PLBART-main/data/codeXglue/code-to-text/python/valid.jsonl', 'r', encoding='utf-8') as f:\n",
        "  for line in f:\n",
        "    t = \" \".join(json.loads(line)['docstring_tokens'])\n",
        "    references_v.append(t)"
      ],
      "metadata": {
        "id": "3AS1PEyK5R1X"
      },
      "execution_count": null,
      "outputs": []
    },
    {
      "cell_type": "code",
      "source": [
        "results = '/content/drive/MyDrive/PLBART-main/checkpoints/finetuned_python_ru_XX_10/output_checkpoint9.pt_valid.hyp'\n",
        "\n",
        "predictions_v = []\n",
        "with open(results, 'r', encoding='utf-8') as f:\n",
        "  for line in f:\n",
        "     pred = \" \".join(my_split(line.strip().lower()))\n",
        "     predictions_v.append(pred)\n",
        "\n",
        "\n",
        "bleu = evaluate.load(\"bleu\", max_order=4, smooth=True)\n",
        "results = bleu.compute(predictions=predictions_v, references=references_v)\n",
        "print(results)\n",
        "\n",
        "rouge_l = evaluate.load('rouge')\n",
        "results = rouge_l.compute(predictions=predictions_v,\n",
        "                        references=references_v,\n",
        "                        tokenizer=lambda x: x.split(), \n",
        "                        rouge_types=['rougeL'])\n",
        "print(results)\n",
        "\n",
        "chrf = evaluate.load(\"chrf\")\n",
        "results = chrf.compute(predictions=predictions_v,\n",
        "                      references=references_v,\n",
        "                      lowercase=True)\n",
        "print(results)\n",
        "\n",
        "results = chrf.compute(predictions=predictions_v,\n",
        "                      references=references_v,\n",
        "                      char_order=1,\n",
        "                      lowercase=True)\n",
        "print(results)"
      ],
      "metadata": {
        "colab": {
          "base_uri": "https://localhost:8080/"
        },
        "id": "g34zd3yg5R3n",
        "outputId": "f12efc7b-db9f-4e79-d9c2-a76c89c2e90d"
      },
      "execution_count": null,
      "outputs": [
        {
          "output_type": "stream",
          "name": "stdout",
          "text": [
            "{'bleu': 0.011926906657339737, 'precisions': [0.20289046653144016, 0.025618459991102686, 0.006713078070611636, 0.002023604188453233], 'brevity_penalty': 0.7316650975310205, 'length_ratio': 0.7619440133430359, 'translation_length': 118320, 'reference_length': 155287}\n",
            "{'rougeL': 0.17902947042388812}\n",
            "{'score': 18.571743568835018, 'char_order': 6, 'word_order': 0, 'beta': 2}\n",
            "{'score': 50.528588912353115, 'char_order': 1, 'word_order': 0, 'beta': 2}\n"
          ]
        }
      ]
    }
  ]
}